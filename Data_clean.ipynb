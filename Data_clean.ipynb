{
 "cells": [
  {
   "cell_type": "code",
   "execution_count": 42,
   "metadata": {},
   "outputs": [],
   "source": [
    "import pandas as pd #data processing\n",
    "import numpy as np \n",
    "import matplotlib.pyplot as plt\n",
    "import numpy as np\n",
    "import os"
   ]
  },
  {
   "cell_type": "code",
   "execution_count": 43,
   "metadata": {},
   "outputs": [],
   "source": [
    "df = pd.read_csv(\"./Resources/diamonds.csv\")"
   ]
  },
  {
   "cell_type": "code",
   "execution_count": 44,
   "metadata": {},
   "outputs": [
    {
     "data": {
      "text/html": [
       "<div>\n",
       "<style scoped>\n",
       "    .dataframe tbody tr th:only-of-type {\n",
       "        vertical-align: middle;\n",
       "    }\n",
       "\n",
       "    .dataframe tbody tr th {\n",
       "        vertical-align: top;\n",
       "    }\n",
       "\n",
       "    .dataframe thead th {\n",
       "        text-align: right;\n",
       "    }\n",
       "</style>\n",
       "<table border=\"1\" class=\"dataframe\">\n",
       "  <thead>\n",
       "    <tr style=\"text-align: right;\">\n",
       "      <th></th>\n",
       "      <th>Unnamed: 0</th>\n",
       "      <th>carat</th>\n",
       "      <th>cut</th>\n",
       "      <th>color</th>\n",
       "      <th>clarity</th>\n",
       "      <th>depth</th>\n",
       "      <th>table</th>\n",
       "      <th>price</th>\n",
       "      <th>x</th>\n",
       "      <th>y</th>\n",
       "      <th>z</th>\n",
       "    </tr>\n",
       "  </thead>\n",
       "  <tbody>\n",
       "    <tr>\n",
       "      <th>0</th>\n",
       "      <td>1</td>\n",
       "      <td>0.23</td>\n",
       "      <td>Ideal</td>\n",
       "      <td>E</td>\n",
       "      <td>SI2</td>\n",
       "      <td>61.5</td>\n",
       "      <td>55.0</td>\n",
       "      <td>326</td>\n",
       "      <td>3.95</td>\n",
       "      <td>3.98</td>\n",
       "      <td>2.43</td>\n",
       "    </tr>\n",
       "    <tr>\n",
       "      <th>1</th>\n",
       "      <td>2</td>\n",
       "      <td>0.21</td>\n",
       "      <td>Premium</td>\n",
       "      <td>E</td>\n",
       "      <td>SI1</td>\n",
       "      <td>59.8</td>\n",
       "      <td>61.0</td>\n",
       "      <td>326</td>\n",
       "      <td>3.89</td>\n",
       "      <td>3.84</td>\n",
       "      <td>2.31</td>\n",
       "    </tr>\n",
       "    <tr>\n",
       "      <th>2</th>\n",
       "      <td>3</td>\n",
       "      <td>0.23</td>\n",
       "      <td>Good</td>\n",
       "      <td>E</td>\n",
       "      <td>VS1</td>\n",
       "      <td>56.9</td>\n",
       "      <td>65.0</td>\n",
       "      <td>327</td>\n",
       "      <td>4.05</td>\n",
       "      <td>4.07</td>\n",
       "      <td>2.31</td>\n",
       "    </tr>\n",
       "    <tr>\n",
       "      <th>3</th>\n",
       "      <td>4</td>\n",
       "      <td>0.29</td>\n",
       "      <td>Premium</td>\n",
       "      <td>I</td>\n",
       "      <td>VS2</td>\n",
       "      <td>62.4</td>\n",
       "      <td>58.0</td>\n",
       "      <td>334</td>\n",
       "      <td>4.20</td>\n",
       "      <td>4.23</td>\n",
       "      <td>2.63</td>\n",
       "    </tr>\n",
       "    <tr>\n",
       "      <th>4</th>\n",
       "      <td>5</td>\n",
       "      <td>0.31</td>\n",
       "      <td>Good</td>\n",
       "      <td>J</td>\n",
       "      <td>SI2</td>\n",
       "      <td>63.3</td>\n",
       "      <td>58.0</td>\n",
       "      <td>335</td>\n",
       "      <td>4.34</td>\n",
       "      <td>4.35</td>\n",
       "      <td>2.75</td>\n",
       "    </tr>\n",
       "  </tbody>\n",
       "</table>\n",
       "</div>"
      ],
      "text/plain": [
       "   Unnamed: 0  carat      cut color clarity  depth  table  price     x     y  \\\n",
       "0           1   0.23    Ideal     E     SI2   61.5   55.0    326  3.95  3.98   \n",
       "1           2   0.21  Premium     E     SI1   59.8   61.0    326  3.89  3.84   \n",
       "2           3   0.23     Good     E     VS1   56.9   65.0    327  4.05  4.07   \n",
       "3           4   0.29  Premium     I     VS2   62.4   58.0    334  4.20  4.23   \n",
       "4           5   0.31     Good     J     SI2   63.3   58.0    335  4.34  4.35   \n",
       "\n",
       "      z  \n",
       "0  2.43  \n",
       "1  2.31  \n",
       "2  2.31  \n",
       "3  2.63  \n",
       "4  2.75  "
      ]
     },
     "execution_count": 44,
     "metadata": {},
     "output_type": "execute_result"
    }
   ],
   "source": [
    "df.head()"
   ]
  },
  {
   "cell_type": "code",
   "execution_count": 45,
   "metadata": {},
   "outputs": [
    {
     "name": "stdout",
     "output_type": "stream",
     "text": [
      "<class 'pandas.core.frame.DataFrame'>\n",
      "RangeIndex: 53940 entries, 0 to 53939\n",
      "Data columns (total 11 columns):\n",
      " #   Column      Non-Null Count  Dtype  \n",
      "---  ------      --------------  -----  \n",
      " 0   Unnamed: 0  53940 non-null  int64  \n",
      " 1   carat       53940 non-null  float64\n",
      " 2   cut         53940 non-null  object \n",
      " 3   color       53940 non-null  object \n",
      " 4   clarity     53940 non-null  object \n",
      " 5   depth       53940 non-null  float64\n",
      " 6   table       53940 non-null  float64\n",
      " 7   price       53940 non-null  int64  \n",
      " 8   x           53940 non-null  float64\n",
      " 9   y           53940 non-null  float64\n",
      " 10  z           53940 non-null  float64\n",
      "dtypes: float64(6), int64(2), object(3)\n",
      "memory usage: 4.5+ MB\n"
     ]
    }
   ],
   "source": [
    "df.columns\n",
    "df.shape\n",
    "df.info()"
   ]
  },
  {
   "attachments": {},
   "cell_type": "markdown",
   "metadata": {},
   "source": [
    "## Data Cleaning"
   ]
  },
  {
   "cell_type": "code",
   "execution_count": 46,
   "metadata": {},
   "outputs": [
    {
     "data": {
      "text/plain": [
       "Unnamed: 0    0\n",
       "carat         0\n",
       "cut           0\n",
       "color         0\n",
       "clarity       0\n",
       "depth         0\n",
       "table         0\n",
       "price         0\n",
       "x             0\n",
       "y             0\n",
       "z             0\n",
       "dtype: int64"
      ]
     },
     "execution_count": 46,
     "metadata": {},
     "output_type": "execute_result"
    }
   ],
   "source": [
    "\n",
    "df.isnull().sum()"
   ]
  },
  {
   "cell_type": "code",
   "execution_count": 47,
   "metadata": {},
   "outputs": [],
   "source": [
    "df = df.drop(df[df[\"x\"]==0].index)\n",
    "df = df.drop(df[df[\"y\"]==0].index)\n",
    "df = df.drop(df[df[\"z\"]==0].index)\n",
    "df.drop(columns=['Unnamed: 0'], inplace=True)"
   ]
  },
  {
   "attachments": {},
   "cell_type": "markdown",
   "metadata": {},
   "source": [
    "## Data Quality check"
   ]
  },
  {
   "cell_type": "code",
   "execution_count": 49,
   "metadata": {},
   "outputs": [],
   "source": [
    "corr = df.corr()"
   ]
  },
  {
   "cell_type": "code",
   "execution_count": 50,
   "metadata": {},
   "outputs": [
    {
     "data": {
      "text/html": [
       "<style type=\"text/css\">\n",
       "#T_45b9e_row0_col0, #T_45b9e_row1_col1, #T_45b9e_row2_col2, #T_45b9e_row3_col3, #T_45b9e_row4_col4, #T_45b9e_row5_col5, #T_45b9e_row6_col6 {\n",
       "  background-color: #b40426;\n",
       "  color: #f1f1f1;\n",
       "}\n",
       "#T_45b9e_row0_col1 {\n",
       "  background-color: #8db0fe;\n",
       "  color: #000000;\n",
       "}\n",
       "#T_45b9e_row0_col2, #T_45b9e_row5_col2 {\n",
       "  background-color: #b6cefa;\n",
       "  color: #000000;\n",
       "}\n",
       "#T_45b9e_row0_col3 {\n",
       "  background-color: #cf453c;\n",
       "  color: #f1f1f1;\n",
       "}\n",
       "#T_45b9e_row0_col4, #T_45b9e_row4_col0 {\n",
       "  background-color: #bb1b2c;\n",
       "  color: #f1f1f1;\n",
       "}\n",
       "#T_45b9e_row0_col5, #T_45b9e_row0_col6 {\n",
       "  background-color: #c43032;\n",
       "  color: #f1f1f1;\n",
       "}\n",
       "#T_45b9e_row1_col0, #T_45b9e_row1_col2, #T_45b9e_row1_col3, #T_45b9e_row1_col4, #T_45b9e_row1_col5, #T_45b9e_row1_col6, #T_45b9e_row2_col1 {\n",
       "  background-color: #3b4cc0;\n",
       "  color: #f1f1f1;\n",
       "}\n",
       "#T_45b9e_row2_col0 {\n",
       "  background-color: #6c8ff1;\n",
       "  color: #f1f1f1;\n",
       "}\n",
       "#T_45b9e_row2_col3 {\n",
       "  background-color: #6485ec;\n",
       "  color: #f1f1f1;\n",
       "}\n",
       "#T_45b9e_row2_col4 {\n",
       "  background-color: #81a4fb;\n",
       "  color: #f1f1f1;\n",
       "}\n",
       "#T_45b9e_row2_col5, #T_45b9e_row4_col1 {\n",
       "  background-color: #7ea1fa;\n",
       "  color: #f1f1f1;\n",
       "}\n",
       "#T_45b9e_row2_col6 {\n",
       "  background-color: #4e68d8;\n",
       "  color: #f1f1f1;\n",
       "}\n",
       "#T_45b9e_row3_col0 {\n",
       "  background-color: #d0473d;\n",
       "  color: #f1f1f1;\n",
       "}\n",
       "#T_45b9e_row3_col1 {\n",
       "  background-color: #82a6fb;\n",
       "  color: #f1f1f1;\n",
       "}\n",
       "#T_45b9e_row3_col2 {\n",
       "  background-color: #a7c5fe;\n",
       "  color: #000000;\n",
       "}\n",
       "#T_45b9e_row3_col4, #T_45b9e_row4_col3 {\n",
       "  background-color: #d95847;\n",
       "  color: #f1f1f1;\n",
       "}\n",
       "#T_45b9e_row3_col5 {\n",
       "  background-color: #de614d;\n",
       "  color: #f1f1f1;\n",
       "}\n",
       "#T_45b9e_row3_col6 {\n",
       "  background-color: #e36b54;\n",
       "  color: #f1f1f1;\n",
       "}\n",
       "#T_45b9e_row4_col2 {\n",
       "  background-color: #bad0f8;\n",
       "  color: #000000;\n",
       "}\n",
       "#T_45b9e_row4_col5, #T_45b9e_row4_col6, #T_45b9e_row5_col4, #T_45b9e_row6_col4 {\n",
       "  background-color: #bd1f2d;\n",
       "  color: #f1f1f1;\n",
       "}\n",
       "#T_45b9e_row5_col0, #T_45b9e_row5_col6 {\n",
       "  background-color: #c53334;\n",
       "  color: #f1f1f1;\n",
       "}\n",
       "#T_45b9e_row5_col1 {\n",
       "  background-color: #7da0f9;\n",
       "  color: #f1f1f1;\n",
       "}\n",
       "#T_45b9e_row5_col3, #T_45b9e_row6_col3 {\n",
       "  background-color: #df634e;\n",
       "  color: #f1f1f1;\n",
       "}\n",
       "#T_45b9e_row6_col0, #T_45b9e_row6_col5 {\n",
       "  background-color: #c32e31;\n",
       "  color: #f1f1f1;\n",
       "}\n",
       "#T_45b9e_row6_col1 {\n",
       "  background-color: #9fbfff;\n",
       "  color: #000000;\n",
       "}\n",
       "#T_45b9e_row6_col2 {\n",
       "  background-color: #aec9fc;\n",
       "  color: #000000;\n",
       "}\n",
       "</style>\n",
       "<table id=\"T_45b9e_\">\n",
       "  <thead>\n",
       "    <tr>\n",
       "      <th class=\"blank level0\" >&nbsp;</th>\n",
       "      <th class=\"col_heading level0 col0\" >carat</th>\n",
       "      <th class=\"col_heading level0 col1\" >depth</th>\n",
       "      <th class=\"col_heading level0 col2\" >table</th>\n",
       "      <th class=\"col_heading level0 col3\" >price</th>\n",
       "      <th class=\"col_heading level0 col4\" >x</th>\n",
       "      <th class=\"col_heading level0 col5\" >y</th>\n",
       "      <th class=\"col_heading level0 col6\" >z</th>\n",
       "    </tr>\n",
       "  </thead>\n",
       "  <tbody>\n",
       "    <tr>\n",
       "      <th id=\"T_45b9e_level0_row0\" class=\"row_heading level0 row0\" >carat</th>\n",
       "      <td id=\"T_45b9e_row0_col0\" class=\"data row0 col0\" >1.000000</td>\n",
       "      <td id=\"T_45b9e_row0_col1\" class=\"data row0 col1\" >0.028259</td>\n",
       "      <td id=\"T_45b9e_row0_col2\" class=\"data row0 col2\" >0.181646</td>\n",
       "      <td id=\"T_45b9e_row0_col3\" class=\"data row0 col3\" >0.921592</td>\n",
       "      <td id=\"T_45b9e_row0_col4\" class=\"data row0 col4\" >0.977779</td>\n",
       "      <td id=\"T_45b9e_row0_col5\" class=\"data row0 col5\" >0.953991</td>\n",
       "      <td id=\"T_45b9e_row0_col6\" class=\"data row0 col6\" >0.961048</td>\n",
       "    </tr>\n",
       "    <tr>\n",
       "      <th id=\"T_45b9e_level0_row1\" class=\"row_heading level0 row1\" >depth</th>\n",
       "      <td id=\"T_45b9e_row1_col0\" class=\"data row1 col0\" >0.028259</td>\n",
       "      <td id=\"T_45b9e_row1_col1\" class=\"data row1 col1\" >1.000000</td>\n",
       "      <td id=\"T_45b9e_row1_col2\" class=\"data row1 col2\" >-0.295733</td>\n",
       "      <td id=\"T_45b9e_row1_col3\" class=\"data row1 col3\" >-0.010729</td>\n",
       "      <td id=\"T_45b9e_row1_col4\" class=\"data row1 col4\" >-0.025017</td>\n",
       "      <td id=\"T_45b9e_row1_col5\" class=\"data row1 col5\" >-0.029069</td>\n",
       "      <td id=\"T_45b9e_row1_col6\" class=\"data row1 col6\" >0.095023</td>\n",
       "    </tr>\n",
       "    <tr>\n",
       "      <th id=\"T_45b9e_level0_row2\" class=\"row_heading level0 row2\" >table</th>\n",
       "      <td id=\"T_45b9e_row2_col0\" class=\"data row2 col0\" >0.181646</td>\n",
       "      <td id=\"T_45b9e_row2_col1\" class=\"data row2 col1\" >-0.295733</td>\n",
       "      <td id=\"T_45b9e_row2_col2\" class=\"data row2 col2\" >1.000000</td>\n",
       "      <td id=\"T_45b9e_row2_col3\" class=\"data row2 col3\" >0.127245</td>\n",
       "      <td id=\"T_45b9e_row2_col4\" class=\"data row2 col4\" >0.196097</td>\n",
       "      <td id=\"T_45b9e_row2_col5\" class=\"data row2 col5\" >0.184493</td>\n",
       "      <td id=\"T_45b9e_row2_col6\" class=\"data row2 col6\" >0.152483</td>\n",
       "    </tr>\n",
       "    <tr>\n",
       "      <th id=\"T_45b9e_level0_row3\" class=\"row_heading level0 row3\" >price</th>\n",
       "      <td id=\"T_45b9e_row3_col0\" class=\"data row3 col0\" >0.921592</td>\n",
       "      <td id=\"T_45b9e_row3_col1\" class=\"data row3 col1\" >-0.010729</td>\n",
       "      <td id=\"T_45b9e_row3_col2\" class=\"data row3 col2\" >0.127245</td>\n",
       "      <td id=\"T_45b9e_row3_col3\" class=\"data row3 col3\" >1.000000</td>\n",
       "      <td id=\"T_45b9e_row3_col4\" class=\"data row3 col4\" >0.887231</td>\n",
       "      <td id=\"T_45b9e_row3_col5\" class=\"data row3 col5\" >0.867864</td>\n",
       "      <td id=\"T_45b9e_row3_col6\" class=\"data row3 col6\" >0.868206</td>\n",
       "    </tr>\n",
       "    <tr>\n",
       "      <th id=\"T_45b9e_level0_row4\" class=\"row_heading level0 row4\" >x</th>\n",
       "      <td id=\"T_45b9e_row4_col0\" class=\"data row4 col0\" >0.977779</td>\n",
       "      <td id=\"T_45b9e_row4_col1\" class=\"data row4 col1\" >-0.025017</td>\n",
       "      <td id=\"T_45b9e_row4_col2\" class=\"data row4 col2\" >0.196097</td>\n",
       "      <td id=\"T_45b9e_row4_col3\" class=\"data row4 col3\" >0.887231</td>\n",
       "      <td id=\"T_45b9e_row4_col4\" class=\"data row4 col4\" >1.000000</td>\n",
       "      <td id=\"T_45b9e_row4_col5\" class=\"data row4 col5\" >0.974918</td>\n",
       "      <td id=\"T_45b9e_row4_col6\" class=\"data row4 col6\" >0.975435</td>\n",
       "    </tr>\n",
       "    <tr>\n",
       "      <th id=\"T_45b9e_level0_row5\" class=\"row_heading level0 row5\" >y</th>\n",
       "      <td id=\"T_45b9e_row5_col0\" class=\"data row5 col0\" >0.953991</td>\n",
       "      <td id=\"T_45b9e_row5_col1\" class=\"data row5 col1\" >-0.029069</td>\n",
       "      <td id=\"T_45b9e_row5_col2\" class=\"data row5 col2\" >0.184493</td>\n",
       "      <td id=\"T_45b9e_row5_col3\" class=\"data row5 col3\" >0.867864</td>\n",
       "      <td id=\"T_45b9e_row5_col4\" class=\"data row5 col4\" >0.974918</td>\n",
       "      <td id=\"T_45b9e_row5_col5\" class=\"data row5 col5\" >1.000000</td>\n",
       "      <td id=\"T_45b9e_row5_col6\" class=\"data row5 col6\" >0.956744</td>\n",
       "    </tr>\n",
       "    <tr>\n",
       "      <th id=\"T_45b9e_level0_row6\" class=\"row_heading level0 row6\" >z</th>\n",
       "      <td id=\"T_45b9e_row6_col0\" class=\"data row6 col0\" >0.961048</td>\n",
       "      <td id=\"T_45b9e_row6_col1\" class=\"data row6 col1\" >0.095023</td>\n",
       "      <td id=\"T_45b9e_row6_col2\" class=\"data row6 col2\" >0.152483</td>\n",
       "      <td id=\"T_45b9e_row6_col3\" class=\"data row6 col3\" >0.868206</td>\n",
       "      <td id=\"T_45b9e_row6_col4\" class=\"data row6 col4\" >0.975435</td>\n",
       "      <td id=\"T_45b9e_row6_col5\" class=\"data row6 col5\" >0.956744</td>\n",
       "      <td id=\"T_45b9e_row6_col6\" class=\"data row6 col6\" >1.000000</td>\n",
       "    </tr>\n",
       "  </tbody>\n",
       "</table>\n"
      ],
      "text/plain": [
       "<pandas.io.formats.style.Styler at 0x1f681c4d8c8>"
      ]
     },
     "execution_count": 50,
     "metadata": {},
     "output_type": "execute_result"
    }
   ],
   "source": [
    "corr.style.background_gradient(cmap='coolwarm')"
   ]
  },
  {
   "cell_type": "code",
   "execution_count": 54,
   "metadata": {},
   "outputs": [],
   "source": [
    "df.price = np.log10(df.price)"
   ]
  },
  {
   "cell_type": "code",
   "execution_count": 55,
   "metadata": {},
   "outputs": [
    {
     "data": {
      "image/png": "[encoded data removed]",
      "text/plain": [
       "<Figure size 640x480 with 1 Axes>"
      ]
     },
     "metadata": {},
     "output_type": "display_data"
    }
   ],
   "source": [
    "# times = [96,98,100,105,85,88,95,100,101,102,97,98,5]\n",
    "# fig1, ax1 = plt.subplots()\n",
    "# ax1.set_title('Reaction Times at Baseball Batting Cage')\n",
    "# ax1.set_ylabel('Reaction Time (ms)')\n",
    "# ax1.boxplot(times)\n",
    "# plt.show()\n",
    "df.boxplot()\n",
    "plt.show()"
   ]
  },
  {
   "cell_type": "code",
   "execution_count": 57,
   "metadata": {},
   "outputs": [
    {
     "data": {
      "text/html": [
       "<div>\n",
       "<style scoped>\n",
       "    .dataframe tbody tr th:only-of-type {\n",
       "        vertical-align: middle;\n",
       "    }\n",
       "\n",
       "    .dataframe tbody tr th {\n",
       "        vertical-align: top;\n",
       "    }\n",
       "\n",
       "    .dataframe thead th {\n",
       "        text-align: right;\n",
       "    }\n",
       "</style>\n",
       "<table border=\"1\" class=\"dataframe\">\n",
       "  <thead>\n",
       "    <tr style=\"text-align: right;\">\n",
       "      <th></th>\n",
       "      <th>carat</th>\n",
       "      <th>depth</th>\n",
       "      <th>table</th>\n",
       "      <th>price</th>\n",
       "      <th>x</th>\n",
       "      <th>y</th>\n",
       "      <th>z</th>\n",
       "    </tr>\n",
       "  </thead>\n",
       "  <tbody>\n",
       "    <tr>\n",
       "      <th>count</th>\n",
       "      <td>53920.000000</td>\n",
       "      <td>53920.000000</td>\n",
       "      <td>53920.000000</td>\n",
       "      <td>53920.000000</td>\n",
       "      <td>53920.000000</td>\n",
       "      <td>53920.000000</td>\n",
       "      <td>53920.000000</td>\n",
       "    </tr>\n",
       "    <tr>\n",
       "      <th>mean</th>\n",
       "      <td>0.797698</td>\n",
       "      <td>61.749514</td>\n",
       "      <td>57.456834</td>\n",
       "      <td>3.381587</td>\n",
       "      <td>5.731627</td>\n",
       "      <td>5.734887</td>\n",
       "      <td>3.540046</td>\n",
       "    </tr>\n",
       "    <tr>\n",
       "      <th>std</th>\n",
       "      <td>0.473795</td>\n",
       "      <td>1.432331</td>\n",
       "      <td>2.234064</td>\n",
       "      <td>0.440609</td>\n",
       "      <td>1.119423</td>\n",
       "      <td>1.140126</td>\n",
       "      <td>0.702530</td>\n",
       "    </tr>\n",
       "    <tr>\n",
       "      <th>min</th>\n",
       "      <td>0.200000</td>\n",
       "      <td>43.000000</td>\n",
       "      <td>43.000000</td>\n",
       "      <td>2.513218</td>\n",
       "      <td>3.730000</td>\n",
       "      <td>3.680000</td>\n",
       "      <td>1.070000</td>\n",
       "    </tr>\n",
       "    <tr>\n",
       "      <th>25%</th>\n",
       "      <td>0.400000</td>\n",
       "      <td>61.000000</td>\n",
       "      <td>56.000000</td>\n",
       "      <td>2.977266</td>\n",
       "      <td>4.710000</td>\n",
       "      <td>4.720000</td>\n",
       "      <td>2.910000</td>\n",
       "    </tr>\n",
       "    <tr>\n",
       "      <th>50%</th>\n",
       "      <td>0.700000</td>\n",
       "      <td>61.800000</td>\n",
       "      <td>57.000000</td>\n",
       "      <td>3.380392</td>\n",
       "      <td>5.700000</td>\n",
       "      <td>5.710000</td>\n",
       "      <td>3.530000</td>\n",
       "    </tr>\n",
       "    <tr>\n",
       "      <th>75%</th>\n",
       "      <td>1.040000</td>\n",
       "      <td>62.500000</td>\n",
       "      <td>59.000000</td>\n",
       "      <td>3.726177</td>\n",
       "      <td>6.540000</td>\n",
       "      <td>6.540000</td>\n",
       "      <td>4.040000</td>\n",
       "    </tr>\n",
       "    <tr>\n",
       "      <th>max</th>\n",
       "      <td>5.010000</td>\n",
       "      <td>79.000000</td>\n",
       "      <td>95.000000</td>\n",
       "      <td>4.274689</td>\n",
       "      <td>10.740000</td>\n",
       "      <td>58.900000</td>\n",
       "      <td>31.800000</td>\n",
       "    </tr>\n",
       "  </tbody>\n",
       "</table>\n",
       "</div>"
      ],
      "text/plain": [
       "              carat         depth         table         price             x  \\\n",
       "count  53920.000000  53920.000000  53920.000000  53920.000000  53920.000000   \n",
       "mean       0.797698     61.749514     57.456834      3.381587      5.731627   \n",
       "std        0.473795      1.432331      2.234064      0.440609      1.119423   \n",
       "min        0.200000     43.000000     43.000000      2.513218      3.730000   \n",
       "25%        0.400000     61.000000     56.000000      2.977266      4.710000   \n",
       "50%        0.700000     61.800000     57.000000      3.380392      5.700000   \n",
       "75%        1.040000     62.500000     59.000000      3.726177      6.540000   \n",
       "max        5.010000     79.000000     95.000000      4.274689     10.740000   \n",
       "\n",
       "                  y             z  \n",
       "count  53920.000000  53920.000000  \n",
       "mean       5.734887      3.540046  \n",
       "std        1.140126      0.702530  \n",
       "min        3.680000      1.070000  \n",
       "25%        4.720000      2.910000  \n",
       "50%        5.710000      3.530000  \n",
       "75%        6.540000      4.040000  \n",
       "max       58.900000     31.800000  "
      ]
     },
     "execution_count": 57,
     "metadata": {},
     "output_type": "execute_result"
    }
   ],
   "source": [
    "df.describe()"
   ]
  },
  {
   "cell_type": "code",
   "execution_count": 60,
   "metadata": {},
   "outputs": [],
   "source": [
    "for col in df.columns:\n",
    "    if col in ('cut', 'color', 'clarity'):\n",
    "        continue\n",
    "    df[col] = df[col] / df[col].max()"
   ]
  },
  {
   "cell_type": "code",
   "execution_count": 62,
   "metadata": {},
   "outputs": [
    {
     "data": {
      "image/png": "[encoded data removed]",
      "text/plain": [
       "<Figure size 640x480 with 1 Axes>"
      ]
     },
     "metadata": {},
     "output_type": "display_data"
    }
   ],
   "source": [
    "df.boxplot()\n",
    "plt.show()"
   ]
  },
  {
   "cell_type": "code",
   "execution_count": null,
   "metadata": {},
   "outputs": [],
   "source": [
    "# split data into train/test\n",
    "from sklearn. import te"
   ]
  },
  {
   "cell_type": "code",
   "execution_count": 65,
   "metadata": {},
   "outputs": [
    {
     "data": {
      "text/plain": [
       "<bound method DataFrame.info of           carat        cut color clarity     depth     table     price  \\\n",
       "0      0.045908      Ideal     E     SI2  0.778481  0.578947  0.587930   \n",
       "1      0.041916    Premium     E     SI1  0.756962  0.642105  0.587930   \n",
       "2      0.045908       Good     E     VS1  0.720253  0.684211  0.588241   \n",
       "3      0.057884    Premium     I     VS2  0.789873  0.610526  0.590393   \n",
       "4      0.061876       Good     J     SI2  0.801266  0.610526  0.590697   \n",
       "...         ...        ...   ...     ...       ...       ...       ...   \n",
       "53935  0.143713      Ideal     D     SI1  0.769620  0.600000  0.804839   \n",
       "53936  0.143713       Good     D     SI1  0.798734  0.578947  0.804839   \n",
       "53937  0.139721  Very Good     D     SI1  0.794937  0.631579  0.804839   \n",
       "53938  0.171657    Premium     H     SI2  0.772152  0.610526  0.804839   \n",
       "53939  0.149701      Ideal     D     SI2  0.787342  0.578947  0.804839   \n",
       "\n",
       "              x         y         z  \n",
       "0      0.367784  0.067572  0.076415  \n",
       "1      0.362197  0.065195  0.072642  \n",
       "2      0.377095  0.069100  0.072642  \n",
       "3      0.391061  0.071817  0.082704  \n",
       "4      0.404097  0.073854  0.086478  \n",
       "...         ...       ...       ...  \n",
       "53935  0.535382  0.097793  0.110063  \n",
       "53936  0.529795  0.097623  0.113522  \n",
       "53937  0.527002  0.096435  0.111950  \n",
       "53938  0.572626  0.103905  0.117610  \n",
       "53939  0.542831  0.099660  0.114465  \n",
       "\n",
       "[53920 rows x 10 columns]>"
      ]
     },
     "execution_count": 65,
     "metadata": {},
     "output_type": "execute_result"
    }
   ],
   "source": [
    "df.info"
   ]
  },
  {
   "cell_type": "code",
   "execution_count": null,
   "metadata": {},
   "outputs": [],
   "source": [
    "from sklearn."
   ]
  },
  {
   "cell_type": "code",
   "execution_count": 67,
   "metadata": {},
   "outputs": [],
   "source": [
    "# RF\n",
    "from sklearn.ensemble import RandomForestRegressor\n",
    "rf = RandomForestRegressor()\n",
    "rf = rf.fit(X=df.drop(columns=['price', 'cut', 'clarity', 'color']), y=df.price)\n"
   ]
  },
  {
   "cell_type": "code",
   "execution_count": null,
   "metadata": {},
   "outputs": [],
   "source": [
    "# GBM"
   ]
  },
  {
   "cell_type": "code",
   "execution_count": null,
   "metadata": {},
   "outputs": [],
   "source": [
    "# Linear Regression"
   ]
  },
  {
   "cell_type": "code",
   "execution_count": 70,
   "metadata": {},
   "outputs": [
    {
     "name": "stdout",
     "output_type": "stream",
     "text": [
      "0.9896276469308124\n"
     ]
    },
    {
     "data": {
      "image/png": "[encoded data removed]",
      "text/plain": [
       "<Figure size 640x480 with 1 Axes>"
      ]
     },
     "metadata": {},
     "output_type": "display_data"
    }
   ],
   "source": [
    "# Model output testing\n",
    "# 1. R2 value\n",
    "# 2. Q-Q plot\n",
    "# 3. Residual analysis\n",
    "\n",
    "from sklearn.metrics import r2_score\n",
    "\n",
    "yhat = rf.predict(df.drop(columns=['price', 'cut', 'clarity', 'color']))\n",
    "print(r2_score(yhat, df.price))\n",
    "\n",
    "errors = yhat - df.price\n",
    "\n",
    "plt.hist(errors, 30, density=True)\n",
    "plt.show()\n"
   ]
  },
  {
   "cell_type": "code",
   "execution_count": 72,
   "metadata": {},
   "outputs": [
    {
     "data": {
      "image/png": "[encoded data removed]",
      "text/plain": [
       "<Figure size 640x480 with 1 Axes>"
      ]
     },
     "metadata": {},
     "output_type": "display_data"
    }
   ],
   "source": [
    "plt.scatter(y=errors, x=df.price)\n",
    "plt.show()"
   ]
  },
  {
   "cell_type": "code",
   "execution_count": null,
   "metadata": {},
   "outputs": [],
   "source": []
  }
 ],
 "metadata": {
  "kernelspec": {
   "display_name": "PythonData",
   "language": "python",
   "name": "python3"
  },
  "language_info": {
   "codemirror_mode": {
    "name": "ipython",
    "version": 3
   },
   "file_extension": ".py",
   "mimetype": "text/x-python",
   "name": "python",
   "nbconvert_exporter": "python",
   "pygments_lexer": "ipython3",
   "version": "3.9.13"
  },
  "orig_nbformat": 4
 },
 "nbformat": 4,
 "nbformat_minor": 2
}
